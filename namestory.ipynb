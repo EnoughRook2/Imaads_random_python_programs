{
 "cells": [
  {
   "cell_type": "code",
   "execution_count": 8,
   "id": "6d7d0bb0",
   "metadata": {},
   "outputs": [
    {
     "name": "stdout",
     "output_type": "stream",
     "text": [
      "His name is hbdkadkadkadh, He is 345 years old\n",
      "hbdkadkadkadh pocahantus 345\n"
     ]
    }
   ],
   "source": [
    "name= \"hbdkadkadkadh\"\n",
    "age= \"345\"\n",
    "print(\"His name is \"+name+\", He is \"+age+\" years old\")\n",
    "print(name + \" pocahantus \"+ age)"
   ]
  }
 ],
 "metadata": {
  "kernelspec": {
   "display_name": "Python 3",
   "language": "python",
   "name": "python3"
  },
  "language_info": {
   "codemirror_mode": {
    "name": "ipython",
    "version": 3
   },
   "file_extension": ".py",
   "mimetype": "text/x-python",
   "name": "python",
   "nbconvert_exporter": "python",
   "pygments_lexer": "ipython3",
   "version": "3.12.0"
  }
 },
 "nbformat": 4,
 "nbformat_minor": 5
}
