{
 "cells": [
  {
   "cell_type": "code",
   "execution_count": 12,
   "id": "4b5a1a94",
   "metadata": {},
   "outputs": [
    {
     "name": "stdout",
     "output_type": "stream",
     "text": [
      "ggccg\n"
     ]
    }
   ],
   "source": [
    "def translate(phrase):\n",
    "    final = \"\"\n",
    "    for letter in phrase:\n",
    "        if letter in \"AEIOUaeiou\":\n",
    "            final= final + \"g\"\n",
    "        else: final = final +letter\n",
    "           \n",
    "    return(final)\n",
    "    \n",
    "\n",
    "print(translate(input(\"Enter a phrase\")))"
   ]
  }
 ],
 "metadata": {
  "kernelspec": {
   "display_name": "Python 3",
   "language": "python",
   "name": "python3"
  },
  "language_info": {
   "codemirror_mode": {
    "name": "ipython",
    "version": 3
   },
   "file_extension": ".py",
   "mimetype": "text/x-python",
   "name": "python",
   "nbconvert_exporter": "python",
   "pygments_lexer": "ipython3",
   "version": "3.12.0"
  }
 },
 "nbformat": 4,
 "nbformat_minor": 5
}
