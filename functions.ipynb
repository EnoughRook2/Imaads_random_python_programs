{
 "cells": [
  {
   "cell_type": "code",
   "execution_count": 12,
   "id": "6586f34d",
   "metadata": {},
   "outputs": [
    {
     "name": "stdout",
     "output_type": "stream",
     "text": [
      "hello mike\n",
      "hello 9\n"
     ]
    },
    {
     "data": {
      "text/plain": [
       "27"
      ]
     },
     "execution_count": 12,
     "metadata": {},
     "output_type": "execute_result"
    }
   ],
   "source": [
    "def hi(name): \n",
    "    print(\"hello \"+name)\n",
    "def cube(num):\n",
    "    return(num*num*num)\n",
    "\n",
    "hi(\"mike\")\n",
    "hi(str(9))\n",
    "num2=input(\"Enter a number\")\n",
    "cube(int(num2))\n"
   ]
  }
 ],
 "metadata": {
  "kernelspec": {
   "display_name": "Python 3",
   "language": "python",
   "name": "python3"
  },
  "language_info": {
   "codemirror_mode": {
    "name": "ipython",
    "version": 3
   },
   "file_extension": ".py",
   "mimetype": "text/x-python",
   "name": "python",
   "nbconvert_exporter": "python",
   "pygments_lexer": "ipython3",
   "version": "3.12.0"
  }
 },
 "nbformat": 4,
 "nbformat_minor": 5
}
