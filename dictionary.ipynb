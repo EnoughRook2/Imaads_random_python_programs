{
 "cells": [
  {
   "cell_type": "code",
   "execution_count": 21,
   "id": "b38563f6",
   "metadata": {},
   "outputs": [
    {
     "name": "stdout",
     "output_type": "stream",
     "text": [
      "20th september\n",
      "user not there\n"
     ]
    }
   ],
   "source": [
    "birthdays={\n",
    "    \"Imaad\":\"20th september\",\n",
    "    \"Yash\":\"5th june\",\n",
    "    \"Soham\":\"Some date\",\n",
    "    }\n",
    "print(birthdays.get(\"Imaad\",\"User is not there\"))\n",
    "print(birthdays.get(\"Sayush\",\"user not there\"))"
   ]
  }
 ],
 "metadata": {
  "kernelspec": {
   "display_name": "Python 3",
   "language": "python",
   "name": "python3"
  },
  "language_info": {
   "codemirror_mode": {
    "name": "ipython",
    "version": 3
   },
   "file_extension": ".py",
   "mimetype": "text/x-python",
   "name": "python",
   "nbconvert_exporter": "python",
   "pygments_lexer": "ipython3",
   "version": "3.12.0"
  }
 },
 "nbformat": 4,
 "nbformat_minor": 5
}
