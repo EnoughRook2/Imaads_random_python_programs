{
 "cells": [
  {
   "cell_type": "code",
   "execution_count": 9,
   "id": "3cbc0b56",
   "metadata": {},
   "outputs": [
    {
     "name": "stdout",
     "output_type": "stream",
     "text": [
      "congrats you win\n"
     ]
    }
   ],
   "source": [
    "secret_word = \"girl\"\n",
    "guess= \"\"\n",
    "guess_count=1\n",
    "while guess != secret_word and guess_count<4:\n",
    "    guess = str(input(\"Guess word:\"))\n",
    "    if guess != secret_word: print(\"incorrect try again\")\n",
    "    if guess == secret_word: print(\"congrats you win\")\n",
    "    guess_count +=1\n",
    "if guess_count >3: print(\"you lose\")"
   ]
  }
 ],
 "metadata": {
  "kernelspec": {
   "display_name": "Python 3",
   "language": "python",
   "name": "python3"
  },
  "language_info": {
   "codemirror_mode": {
    "name": "ipython",
    "version": 3
   },
   "file_extension": ".py",
   "mimetype": "text/x-python",
   "name": "python",
   "nbconvert_exporter": "python",
   "pygments_lexer": "ipython3",
   "version": "3.12.0"
  }
 },
 "nbformat": 4,
 "nbformat_minor": 5
}
