{
 "cells": [
  {
   "cell_type": "code",
   "execution_count": 3,
   "id": "7a155443",
   "metadata": {},
   "outputs": [
    {
     "name": "stdout",
     "output_type": "stream",
     "text": [
      "lol\n",
      "<built-in method writable of _io.TextIOWrapper object at 0x105e67920>\n"
     ]
    }
   ],
   "source": [
    "import useless_tools\n",
    "print(useless_tools.po)\n",
    "pop= open(\"testss.txt\",\"w\")\n",
    "print(pop.writable)\n",
    "pop.write(\"hi\")\n",
    "pop.close()"
   ]
  }
 ],
 "metadata": {
  "kernelspec": {
   "display_name": "Python 3",
   "language": "python",
   "name": "python3"
  },
  "language_info": {
   "codemirror_mode": {
    "name": "ipython",
    "version": 3
   },
   "file_extension": ".py",
   "mimetype": "text/x-python",
   "name": "python",
   "nbconvert_exporter": "python",
   "pygments_lexer": "ipython3",
   "version": "3.12.0"
  }
 },
 "nbformat": 4,
 "nbformat_minor": 5
}
