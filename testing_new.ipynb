{
 "cells": [
  {
   "cell_type": "code",
   "execution_count": null,
   "id": "7a155443",
   "metadata": {},
   "outputs": [
    {
     "name": "stdout",
     "output_type": "stream",
     "text": [
      "<built-in method writable of _io.TextIOWrapper object at 0x104f33ae0>\n"
     ]
    }
   ],
   "source": [
    "import use\n",
    "\n",
    "pop= open(\"testss.txt\",\"w\")\n",
    "print(pop.writable)\n",
    "pop.write(\"hi\")\n",
    "pop.close()"
   ]
  }
 ],
 "metadata": {
  "kernelspec": {
   "display_name": "Python 3",
   "language": "python",
   "name": "python3"
  },
  "language_info": {
   "codemirror_mode": {
    "name": "ipython",
    "version": 3
   },
   "file_extension": ".py",
   "mimetype": "text/x-python",
   "name": "python",
   "nbconvert_exporter": "python",
   "pygments_lexer": "ipython3",
   "version": "3.12.0"
  }
 },
 "nbformat": 4,
 "nbformat_minor": 5
}
