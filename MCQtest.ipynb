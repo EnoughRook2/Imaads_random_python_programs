{
 "cells": [
  {
   "cell_type": "code",
   "execution_count": 8,
   "id": "e14f3534",
   "metadata": {},
   "outputs": [
    {
     "name": "stdout",
     "output_type": "stream",
     "text": [
      "Your femboy score is: 2/3\n"
     ]
    }
   ],
   "source": [
    "from Questions import Questions\n",
    "Questions_prompt=[\n",
    "    \"Are you a femboy?\\n(a)Yes\\n(b)No\\n(c)100%\",\n",
    "    \"Do u you have a joystick?\\n(a)Secret\\n(b)yes\",\n",
    "    \"Are you tall?\\n(a)Yes\\n(b)no\\n(c)uwu\",\n",
    "    ]\n",
    "questions=[\n",
    "   Questions(Questions_prompt[0],\"c\"),\n",
    "   Questions(Questions_prompt[1],\"a\"),\n",
    "   Questions(Questions_prompt[2],\"b\"),\n",
    "   ]\n",
    "def test(questions):\n",
    "    score=0\n",
    "    for question in questions:\n",
    "        answer=input(question.prompt)\n",
    "        if answer == question.answer:\n",
    "            score += 1\n",
    "    return(score)\n",
    "marks = test(questions)\n",
    "print(\"Your femboy score is: \"+str(marks)+\"/\"+str(len(questions)))\n",
    "\n"
   ]
  }
 ],
 "metadata": {
  "kernelspec": {
   "display_name": "Python 3",
   "language": "python",
   "name": "python3"
  },
  "language_info": {
   "codemirror_mode": {
    "name": "ipython",
    "version": 3
   },
   "file_extension": ".py",
   "mimetype": "text/x-python",
   "name": "python",
   "nbconvert_exporter": "python",
   "pygments_lexer": "ipython3",
   "version": "3.12.0"
  }
 },
 "nbformat": 4,
 "nbformat_minor": 5
}
