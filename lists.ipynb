{
 "cells": [
  {
   "cell_type": "code",
   "execution_count": 29,
   "id": "edadddb3",
   "metadata": {},
   "outputs": [
    {
     "name": "stdout",
     "output_type": "stream",
     "text": [
      "['ayush', 'yash', 'rahul', 56, 'srinidh', 'soham']\n"
     ]
    }
   ],
   "source": [
    "friends = [\"ayush\",\"yash\",\"rahul\",56,\"srinidh\",\"soham\",\"jokiling\"]\n",
    "enemies =[\"hshshs\",\"jsjnn\",\"jsjsjjs\"]\n",
    "friends.insert(3,\"jokiling\")\n",
    "friends.remove(\"jokiling\")\n",
    "friends.pop()\n",
    "print(friends)"
   ]
  }
 ],
 "metadata": {
  "kernelspec": {
   "display_name": "Python 3",
   "language": "python",
   "name": "python3"
  },
  "language_info": {
   "codemirror_mode": {
    "name": "ipython",
    "version": 3
   },
   "file_extension": ".py",
   "mimetype": "text/x-python",
   "name": "python",
   "nbconvert_exporter": "python",
   "pygments_lexer": "ipython3",
   "version": "3.12.0"
  }
 },
 "nbformat": 4,
 "nbformat_minor": 5
}
