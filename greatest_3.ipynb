{
 "cells": [
  {
   "cell_type": "code",
   "execution_count": 4,
   "id": "285371a5",
   "metadata": {},
   "outputs": [
    {
     "name": "stdout",
     "output_type": "stream",
     "text": [
      "2\n",
      "None\n"
     ]
    }
   ],
   "source": [
    "def max_num(num1,num2,num3):\n",
    "\n",
    "    if num1>=num2 and num1>= num3:\n",
    "        largest= num1\n",
    "    elif num2>=num1 and num2>=num3:\n",
    "        largest= num2\n",
    "    else: largest = num3\n",
    "    print(largest)\n",
    "print(max_num(2,1,1))"
   ]
  }
 ],
 "metadata": {
  "kernelspec": {
   "display_name": "Python 3",
   "language": "python",
   "name": "python3"
  },
  "language_info": {
   "codemirror_mode": {
    "name": "ipython",
    "version": 3
   },
   "file_extension": ".py",
   "mimetype": "text/x-python",
   "name": "python",
   "nbconvert_exporter": "python",
   "pygments_lexer": "ipython3",
   "version": "3.12.0"
  }
 },
 "nbformat": 4,
 "nbformat_minor": 5
}
