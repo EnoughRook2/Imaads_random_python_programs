{
 "cells": [
  {
   "cell_type": "code",
   "execution_count": 6,
   "id": "e768d115",
   "metadata": {},
   "outputs": [
    {
     "name": "stdout",
     "output_type": "stream",
     "text": [
      "p\n",
      "o\n",
      "o\n",
      "p\n",
      "1\n",
      "2\n",
      "3\n",
      "4\n",
      "5\n",
      "0\n",
      "1\n",
      "2\n",
      "3\n",
      "4\n",
      "1\n",
      "2\n",
      "3\n",
      "4\n",
      "5\n"
     ]
    }
   ],
   "source": [
    "for lol in \"poop\":\n",
    "    print(lol)\n",
    "bob=[1,2,3,4,5]\n",
    "for num in bob:\n",
    "    print(num)\n",
    "for num in range(5):\n",
    "    print(num)\n",
    "for index in range(len(bob)):\n",
    "    print(bob[index])"
   ]
  },
  {
   "cell_type": "code",
   "execution_count": null,
   "id": "7bd88487",
   "metadata": {},
   "outputs": [],
   "source": []
  }
 ],
 "metadata": {
  "kernelspec": {
   "display_name": "Python 3",
   "language": "python",
   "name": "python3"
  },
  "language_info": {
   "codemirror_mode": {
    "name": "ipython",
    "version": 3
   },
   "file_extension": ".py",
   "mimetype": "text/x-python",
   "name": "python",
   "nbconvert_exporter": "python",
   "pygments_lexer": "ipython3",
   "version": "3.12.0"
  }
 },
 "nbformat": 4,
 "nbformat_minor": 5
}
