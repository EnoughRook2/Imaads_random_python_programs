{
 "cells": [
  {
   "cell_type": "code",
   "execution_count": 21,
   "id": "6c0ef09d",
   "metadata": {},
   "outputs": [
    {
     "name": "stdout",
     "output_type": "stream",
     "text": [
      "15\n",
      "a\n",
      "8\n",
      "Manipal School\n",
      "Manipal Academy\n",
      "908 number\n",
      "4.0\n",
      "11\n",
      "5\n",
      "5\n",
      "4\n",
      "You are john\n"
     ]
    }
   ],
   "source": [
    "from math import *\n",
    "character= \"Manipal Academy\"\n",
    "print(len(character))\n",
    "print(character[1])\n",
    "print(character.index(\"A\"))\n",
    "print(character.replace(\"Academy\",\"School\"))\n",
    "print(character)\n",
    "num= 908\n",
    "print(str(num)+\" number\")\n",
    "print(pow(2,2))\n",
    "print(max(9,10,11))\n",
    "print(round(5.49))\n",
    "print(floor(5.7))\n",
    "print(ceil(3.2))\n",
    "name = input(\"Enter ur name: \")\n",
    "print(\"You are \"+name)"
   ]
  }
 ],
 "metadata": {
  "kernelspec": {
   "display_name": "Python 3",
   "language": "python",
   "name": "python3"
  },
  "language_info": {
   "codemirror_mode": {
    "name": "ipython",
    "version": 3
   },
   "file_extension": ".py",
   "mimetype": "text/x-python",
   "name": "python",
   "nbconvert_exporter": "python",
   "pygments_lexer": "ipython3",
   "version": "3.12.0"
  }
 },
 "nbformat": 4,
 "nbformat_minor": 5
}
